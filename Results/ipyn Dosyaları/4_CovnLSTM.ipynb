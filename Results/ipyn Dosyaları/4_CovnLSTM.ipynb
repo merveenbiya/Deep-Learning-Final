{
  "nbformat": 4,
  "nbformat_minor": 0,
  "metadata": {
    "colab": {
      "provenance": []
    },
    "kernelspec": {
      "name": "python3",
      "display_name": "Python 3"
    },
    "language_info": {
      "name": "python"
    }
  },
  "cells": [
    {
      "cell_type": "code",
      "execution_count": null,
      "metadata": {
        "id": "wOSyymcVo_JK"
      },
      "outputs": [],
      "source": [
        "import numpy as np \n",
        "import pandas as pd \n",
        "import seaborn as sns\n",
        "import matplotlib.pyplot as plt\n",
        "from PIL import Image\n",
        "from matplotlib.image import imread\n",
        "import os\n",
        "import random\n",
        "import cv2\n",
        "from tensorflow.keras.preprocessing.image import ImageDataGenerator\n",
        "from tensorflow import keras\n",
        "from keras.models import Sequential, Model\n",
        "from keras.layers import Conv2D, MaxPooling2D, AveragePooling2D, ConvLSTM2D, MaxPooling3D\n",
        "from keras.layers import ConvLSTM2D\n",
        "from keras.layers import Activation, Dropout,  Flatten, Dense,MaxPool2D, MaxPool3D\n",
        " #for explainable\n",
        "from skimage.segmentation import mark_boundaries\n",
        "import tensorflow as tf\n",
        "from keras.models import Sequential\n",
        "from keras.layers.convolutional import Conv3D\n",
        "\n",
        "from keras.layers import BatchNormalization\n",
        "import numpy as np\n",
        "import pylab as plt\n"
      ]
    },
    {
      "cell_type": "code",
      "source": [
        "data_path = '/content/drive/MyDrive/Deep Learning/Database/34/combined'\n",
        "train_path = '/content/drive/MyDrive/Deep Learning/Database/34/combined/train'\n",
        "test_path = '/content/drive/MyDrive/Deep Learning/Database/34/combined/test'\n",
        "os.listdir(train_path)"
      ],
      "metadata": {
        "id": "GxzHgSeypO9S",
        "colab": {
          "base_uri": "https://localhost:8080/"
        },
        "outputId": "1411786e-a494-4e59-af73-9a3ee64be855"
      },
      "execution_count": null,
      "outputs": [
        {
          "output_type": "execute_result",
          "data": {
            "text/plain": [
              "['n', 'c']"
            ]
          },
          "metadata": {},
          "execution_count": 2
        }
      ]
    },
    {
      "cell_type": "code",
      "source": [
        "train_datagen = ImageDataGenerator(rescale = 1./255,\n",
        "                                   zoom_range = 0.2,\n",
        "                                   rotation_range=15,\n",
        "                                   horizontal_flip = True)\n",
        "\n",
        "test_datagen = ImageDataGenerator(rescale = 1./255)\n",
        "\n",
        "training_set = train_datagen.flow_from_directory(train_path,\n",
        "                                                 target_size = (224,224, 224),\n",
        "                                                 batch_size = 10,\n",
        "                                                 class_mode = 'categorical',\n",
        "                                                 shuffle=True)\n",
        "\n",
        "test_set = test_datagen.flow_from_directory(test_path,\n",
        "                                            target_size = (224,224, 224),\n",
        "                                            batch_size = 10,\n",
        "                                            class_mode = 'categorical',\n",
        "                                            shuffle = False)"
      ],
      "metadata": {
        "id": "ZhqsI2aZpO6Q",
        "colab": {
          "base_uri": "https://localhost:8080/"
        },
        "outputId": "6a6a177b-d91d-47e7-c38c-901f13c8f466"
      },
      "execution_count": null,
      "outputs": [
        {
          "output_type": "stream",
          "name": "stdout",
          "text": [
            "Found 4197 images belonging to 2 classes.\n",
            "Found 1931 images belonging to 2 classes.\n"
          ]
        }
      ]
    },
    {
      "cell_type": "code",
      "source": [
        "model = Sequential()\n",
        "model.add(ConvLSTM2D(16,(3,3),activation = \"relu\", input_shape=( 224, 224, 224, 3) ))\n",
        "model.add(MaxPool2D())\n",
        "\n",
        "model.add(Conv2D( 32, (3,3), activation = \"relu\"))\n",
        "model.add(MaxPool2D())\n",
        "model.add(Dropout(0.2))\n",
        "\n",
        "model.add(Conv2D( 64,(3,3), activation = \"relu\"))\n",
        "model.add(MaxPool2D())\n",
        "model.add(Dropout(0.2))\n",
        "\n",
        "model.add(Conv2D( 128,(3,3), activation = \"relu\"))\n",
        "model.add(MaxPool2D())\n",
        "model.add(Dropout(0.2))\n",
        "\n",
        "model.add(Flatten())\n",
        "model.add(Dense(128, activation = \"relu\"))\n",
        "\n",
        "\n",
        "model.add(Dense(2, activation = \"softmax\"))\n",
        "\n",
        "\n",
        "model.compile(loss = \"categorical_crossentropy\", optimizer = \"adam\", metrics = [\"accuracy\"])\n",
        "\n",
        "model.summary()\n"
      ],
      "metadata": {
        "id": "gB5ISNImky_2"
      },
      "execution_count": null,
      "outputs": []
    },
    {
      "cell_type": "code",
      "source": [
        "#plot model layer\n",
        "keras.utils.plot_model(model,show_shapes=True)"
      ],
      "metadata": {
        "id": "jFqNyAmUpOzt"
      },
      "execution_count": null,
      "outputs": []
    },
    {
      "cell_type": "code",
      "source": [
        "history = model.fit(training_set,\n",
        "                    batch_size=10,\n",
        "                    epochs = 40,\n",
        "                    validation_data=test_set)"
      ],
      "metadata": {
        "id": "H5GNBnDCpOxl"
      },
      "execution_count": null,
      "outputs": []
    },
    {
      "cell_type": "code",
      "source": [
        "model.save('covid_model.h5')"
      ],
      "metadata": {
        "id": "EW4zB4PgtJxs"
      },
      "execution_count": null,
      "outputs": []
    },
    {
      "cell_type": "code",
      "source": [
        "print(\"training_accuracy\", history.history['accuracy'][-1])\n",
        "print(\"validation_accuracy\", history.history['val_accuracy'][-1])"
      ],
      "metadata": {
        "id": "gsLhpgECsMqj"
      },
      "execution_count": null,
      "outputs": []
    },
    {
      "cell_type": "code",
      "source": [
        "losses = pd.DataFrame(history.history)\n",
        "losses.head()\n",
        "losses[['loss','val_loss']].plot() \n",
        "losses[['accuracy','val_accuracy']].plot() \n",
        "plt.title(\" Veriseti 4, CovnLSTM Modeli\")\n",
        "losses.plot()"
      ],
      "metadata": {
        "id": "0hhLSVGJsMjX"
      },
      "execution_count": null,
      "outputs": []
    },
    {
      "cell_type": "code",
      "source": [
        "plt.figure(1, figsize = (15, 5))\n",
        "plt.subplot(1,2,1)\n",
        "plt.title(\" Veriseti 4, CovnLSTM Modeli Loss\")\n",
        "plt.xlabel(\"Epochs\")\n",
        "plt.ylabel(\"Loss\")\n",
        "plt.plot( history.history[\"loss\"], label = \"Training Loss\")\n",
        "plt.plot( history.history[\"val_loss\"], label = \"Validation Loss\")\n",
        "plt.grid(True)\n",
        "plt.legend()\n",
        "\n",
        "plt.subplot(1,2,2)\n",
        "plt.title(\" Veriseti 4, CovnLSTM Modeli Accuracy\")\n",
        "plt.xlabel(\"Epochs\")\n",
        "plt.ylabel(\"Accuracy\")\n",
        "plt.plot( history.history[\"accuracy\"], label = \"Training Accuracy\")\n",
        "plt.plot( history.history[\"val_accuracy\"], label = \"Validation Accuracy\")\n",
        "plt.grid(True)\n",
        "plt.legend()\n",
        "plt.show()"
      ],
      "metadata": {
        "id": "6wRPwRLLjHE0"
      },
      "execution_count": null,
      "outputs": []
    },
    {
      "cell_type": "code",
      "source": [
        "from sklearn.metrics import confusion_matrix, classification_report\n",
        "from sklearn.metrics import precision_recall_fscore_support, accuracy_score\n",
        "from sklearn.metrics import precision_score, recall_score, f1_score, accuracy_score\n",
        "from sklearn.metrics import precision_score\n",
        "from sklearn.metrics import matthews_corrcoef\n",
        "\n",
        "classes = [\"n\", \"c\"]\n",
        "\n",
        "y_pred = model.predict(test_set)\n",
        "predictions = np.array(list(map(lambda x: np.argmax(x), y_pred)))\n",
        "\n",
        "y_true=test_set.classes\n",
        "\n",
        "CMatrix = pd.DataFrame(confusion_matrix(y_true, predictions), columns=classes, index =classes)\n",
        "\n",
        "plt.figure(figsize=(12, 6))\n",
        "\n",
        "ax = sns.heatmap(CMatrix, annot = True, fmt = 'g' ,vmin = 0, vmax = 250,cmap = 'Blues')\n",
        "ax.set_xlabel('Predicted',fontsize = 14,weight = 'bold')\n",
        "ax.set_xticklabels(ax.get_xticklabels(),rotation =0);\n",
        "\n",
        "ax.set_ylabel('Actual',fontsize = 14,weight = 'bold') \n",
        "ax.set_yticklabels(ax.get_yticklabels(),rotation =0);\n",
        "ax.set_title(' Veriseti 4, CovnLSTM Modeli Confusion Matrix',fontsize = 16,weight = 'bold',pad=20);"
      ],
      "metadata": {
        "id": "yzW-Sh3ytQIX"
      },
      "execution_count": null,
      "outputs": []
    },
    {
      "cell_type": "code",
      "source": [
        "print(classification_report(y_true, predictions))"
      ],
      "metadata": {
        "id": "IV5Bu7ASthMD"
      },
      "execution_count": null,
      "outputs": []
    },
    {
      "cell_type": "code",
      "source": [
        "print(\"4. Veriseti - CovnLSTM Modeli\")\n",
        "print('Precision: %.3f' % precision_score(y_true, predictions))\n",
        "print('Recall: %.3f' % recall_score(y_true, predictions))\n",
        "print('Accuracy: %.3f' % accuracy_score(y_true, predictions))\n",
        "print('F1 Score: %.3f' % f1_score(y_true, predictions))\n",
        "print('Positive Predictive Value (PPV) Score: %.3f' % precision_score(y_true, predictions))\n",
        "print('Matthews correlation coefficient (MCC) Score: %.3f' % matthews_corrcoef(y_true, predictions))"
      ],
      "metadata": {
        "id": "XYTILYfqS5Tu"
      },
      "execution_count": null,
      "outputs": []
    },
    {
      "cell_type": "code",
      "source": [
        "from sklearn.metrics import RocCurveDisplay\n",
        "from sklearn import metrics\n",
        "fpr, tpr, _ = metrics.roc_curve(y_true, predictions)\n",
        "\n",
        "#create ROC curve\n",
        "plt.plot(fpr,tpr)\n",
        "plt.plot([0, 1], [0, 1], \"k--\")\n",
        "plt.ylabel('True Positive Rate')\n",
        "plt.xlabel('False Positive Rate')\n",
        "plt.title(\" Veriseti 4, CovnLSTM Modeli ROC Curve\")\n",
        "plt.show()"
      ],
      "metadata": {
        "id": "_aL4DhuPS7z3"
      },
      "execution_count": null,
      "outputs": []
    }
  ]
}