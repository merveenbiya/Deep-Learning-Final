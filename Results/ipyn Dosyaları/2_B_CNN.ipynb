{
  "nbformat": 4,
  "nbformat_minor": 0,
  "metadata": {
    "colab": {
      "provenance": []
    },
    "kernelspec": {
      "name": "python3",
      "display_name": "Python 3"
    },
    "language_info": {
      "name": "python"
    }
  },
  "cells": [
    {
      "cell_type": "code",
      "execution_count": 9,
      "metadata": {
        "id": "F_5DgOF50Eg0"
      },
      "outputs": [],
      "source": [
        "import os\n",
        "import matplotlib.pyplot as plt\n",
        "import numpy as np\n",
        "import numpy as np \n",
        "import pandas as pd \n",
        "import seaborn as sns\n",
        "import matplotlib.pyplot as plt\n",
        "from PIL import Image\n",
        "from matplotlib.image import imread\n",
        "import os\n",
        "import random\n",
        "import cv2\n",
        "import h5py\n",
        "from tensorflow import keras\n",
        "from keras.models import Sequential, Model\n",
        "from keras.layers import Conv2D, MaxPooling2D, AveragePooling2D\n",
        "from keras.layers import Activation, Dropout,  Flatten, Dense,MaxPool2D\n",
        "from skimage.segmentation import mark_boundaries\n",
        "from sklearn.model_selection import train_test_split\n",
        "from keras.preprocessing import image\n",
        "from tensorflow.keras.preprocessing.image import ImageDataGenerator\n",
        "from tensorflow.keras.optimizers import Adam\n",
        "from tensorflow.keras.layers import *\n",
        "from tensorflow.keras.models import Sequential\n",
        "from tensorflow.keras.callbacks import ModelCheckpoint\n",
        "from tensorflow.keras.regularizers import l2\n",
        "from keras.models import Sequential, Model\n",
        "from tensorflow.keras.layers import Dense, Flatten, Input\n",
        "from tensorflow.keras.applications.inception_resnet_v2 import preprocess_input\n"
      ]
    },
    {
      "cell_type": "code",
      "source": [
        "im_shape = (224,224)\n",
        "images = '/content/drive/MyDrive/Deep Learning/Database/32/Dataset COVID-19 Augmented'\n",
        "\n",
        "seed = 10\n",
        "\n",
        "BATCH_SIZE = 20"
      ],
      "metadata": {
        "id": "y0fAYVCK0PcV"
      },
      "execution_count": 10,
      "outputs": []
    },
    {
      "cell_type": "code",
      "source": [
        "folders = os.listdir(images)\n",
        "print(folders)"
      ],
      "metadata": {
        "colab": {
          "base_uri": "https://localhost:8080/"
        },
        "id": "a3zvwxylwLmW",
        "outputId": "963c5779-f9ea-4d90-bab8-f36a72c08dda"
      },
      "execution_count": 11,
      "outputs": [
        {
          "output_type": "stream",
          "name": "stdout",
          "text": [
            "['Non-COVID-19', 'COVID-19']\n"
          ]
        }
      ]
    },
    {
      "cell_type": "code",
      "source": [
        "data_generator = ImageDataGenerator( \n",
        "                              rescale = 1./255,\n",
        "                                   zoom_range = 0.2,\n",
        "                                   rotation_range=15,\n",
        "                                   horizontal_flip = True\n",
        "                            )\n",
        "val_data_generator = ImageDataGenerator(rescale = 1./255,validation_split=0.3)"
      ],
      "metadata": {
        "id": "s-vR2GN01ufo"
      },
      "execution_count": 12,
      "outputs": []
    },
    {
      "cell_type": "code",
      "source": [
        "train_generator = data_generator.flow_from_directory(images, target_size=im_shape, shuffle=True, seed=seed,\n",
        "                                                     class_mode='categorical', batch_size=BATCH_SIZE, subset=\"training\")\n",
        "# Generator para parte validação\n",
        "validation_generator = val_data_generator.flow_from_directory(images, target_size=im_shape, shuffle=False, seed=seed,\n",
        "                                                     class_mode='categorical', batch_size=BATCH_SIZE, subset=\"validation\")\n",
        "\n",
        "nb_train_samples = train_generator.samples\n",
        "nb_validation_samples = validation_generator.samples\n",
        "classes = list(train_generator.class_indices.keys())\n",
        "print('Classes: '+str(classes))\n",
        "num_classes  = len(classes)"
      ],
      "metadata": {
        "colab": {
          "base_uri": "https://localhost:8080/"
        },
        "id": "Wf1-zM2mu55I",
        "outputId": "b6864d17-12f0-49d4-9df2-c563eb635092"
      },
      "execution_count": 13,
      "outputs": [
        {
          "output_type": "stream",
          "name": "stdout",
          "text": [
            "Found 1824 images belonging to 2 classes.\n",
            "Found 546 images belonging to 2 classes.\n",
            "Classes: ['COVID-19', 'Non-COVID-19']\n"
          ]
        }
      ]
    },
    {
      "cell_type": "code",
      "source": [
        "model = Sequential()\n",
        "model.add(Conv2D(16,(3,3),activation = \"relu\", input_shape = (224,224,3)))\n",
        "model.add(MaxPool2D())\n",
        "\n",
        "model.add(Conv2D( 32, (3,3), activation = \"relu\"))\n",
        "model.add(MaxPool2D())\n",
        "model.add(Dropout(0.2))\n",
        "\n",
        "model.add(Conv2D( 64,(3,3), activation = \"relu\"))\n",
        "model.add(MaxPool2D())\n",
        "model.add(Dropout(0.2))\n",
        "\n",
        "model.add(Conv2D( 128,(3,3), activation = \"relu\"))\n",
        "model.add(MaxPool2D())\n",
        "model.add(Dropout(0.2))\n",
        "\n",
        "model.add(Conv2D( 256,(3,3), activation = \"relu\"))\n",
        "model.add(MaxPool2D())\n",
        "model.add(Dropout(0.2))\n",
        "\n",
        "\n",
        "model.add(Flatten())\n",
        "model.add(Dense(256, activation = \"relu\"))\n",
        "model.add(Dropout(0.15))\n",
        "\n",
        "model.add(Dense(2, activation = \"softmax\"))\n",
        "\n",
        "\n",
        "model.compile(loss = \"categorical_crossentropy\", optimizer = \"adam\", metrics = [\"accuracy\"])\n",
        "\n",
        "\n",
        "\n",
        "\n",
        "model.summary()"
      ],
      "metadata": {
        "colab": {
          "base_uri": "https://localhost:8080/"
        },
        "id": "91RvwCHd1uZ4",
        "outputId": "4a882779-4fe9-4693-991d-1afe4e79f793"
      },
      "execution_count": 14,
      "outputs": [
        {
          "output_type": "stream",
          "name": "stdout",
          "text": [
            "Model: \"sequential_1\"\n",
            "_________________________________________________________________\n",
            " Layer (type)                Output Shape              Param #   \n",
            "=================================================================\n",
            " conv2d_5 (Conv2D)           (None, 222, 222, 16)      448       \n",
            "                                                                 \n",
            " max_pooling2d_5 (MaxPooling  (None, 111, 111, 16)     0         \n",
            " 2D)                                                             \n",
            "                                                                 \n",
            " conv2d_6 (Conv2D)           (None, 109, 109, 32)      4640      \n",
            "                                                                 \n",
            " max_pooling2d_6 (MaxPooling  (None, 54, 54, 32)       0         \n",
            " 2D)                                                             \n",
            "                                                                 \n",
            " dropout_5 (Dropout)         (None, 54, 54, 32)        0         \n",
            "                                                                 \n",
            " conv2d_7 (Conv2D)           (None, 52, 52, 64)        18496     \n",
            "                                                                 \n",
            " max_pooling2d_7 (MaxPooling  (None, 26, 26, 64)       0         \n",
            " 2D)                                                             \n",
            "                                                                 \n",
            " dropout_6 (Dropout)         (None, 26, 26, 64)        0         \n",
            "                                                                 \n",
            " conv2d_8 (Conv2D)           (None, 24, 24, 128)       73856     \n",
            "                                                                 \n",
            " max_pooling2d_8 (MaxPooling  (None, 12, 12, 128)      0         \n",
            " 2D)                                                             \n",
            "                                                                 \n",
            " dropout_7 (Dropout)         (None, 12, 12, 128)       0         \n",
            "                                                                 \n",
            " conv2d_9 (Conv2D)           (None, 10, 10, 256)       295168    \n",
            "                                                                 \n",
            " max_pooling2d_9 (MaxPooling  (None, 5, 5, 256)        0         \n",
            " 2D)                                                             \n",
            "                                                                 \n",
            " dropout_8 (Dropout)         (None, 5, 5, 256)         0         \n",
            "                                                                 \n",
            " flatten_1 (Flatten)         (None, 6400)              0         \n",
            "                                                                 \n",
            " dense_2 (Dense)             (None, 256)               1638656   \n",
            "                                                                 \n",
            " dropout_9 (Dropout)         (None, 256)               0         \n",
            "                                                                 \n",
            " dense_3 (Dense)             (None, 2)                 514       \n",
            "                                                                 \n",
            "=================================================================\n",
            "Total params: 2,031,778\n",
            "Trainable params: 2,031,778\n",
            "Non-trainable params: 0\n",
            "_________________________________________________________________\n"
          ]
        }
      ]
    },
    {
      "cell_type": "code",
      "source": [
        "hist = model.fit(train_generator,\n",
        "                 validation_data=validation_generator,\n",
        "                 batch_size=32,\n",
        "                 epochs = 40\n",
        "                 \n",
        "                )\n",
        "\n"
      ],
      "metadata": {
        "colab": {
          "base_uri": "https://localhost:8080/"
        },
        "id": "FZUaDo3V1uWt",
        "outputId": "d92d63a9-9c72-4110-f11c-71c23ab946dc"
      },
      "execution_count": 15,
      "outputs": [
        {
          "output_type": "stream",
          "name": "stdout",
          "text": [
            "Epoch 1/40\n",
            "92/92 [==============================] - 159s 2s/step - loss: 0.5600 - accuracy: 0.6754 - val_loss: 0.2487 - val_accuracy: 0.9121\n",
            "Epoch 2/40\n",
            "92/92 [==============================] - 128s 1s/step - loss: 0.2571 - accuracy: 0.9019 - val_loss: 0.1922 - val_accuracy: 0.9194\n",
            "Epoch 3/40\n",
            "92/92 [==============================] - 128s 1s/step - loss: 0.1709 - accuracy: 0.9348 - val_loss: 0.1044 - val_accuracy: 0.9780\n",
            "Epoch 4/40\n",
            "92/92 [==============================] - 130s 1s/step - loss: 0.1273 - accuracy: 0.9529 - val_loss: 0.0818 - val_accuracy: 0.9799\n",
            "Epoch 5/40\n",
            "92/92 [==============================] - 130s 1s/step - loss: 0.1454 - accuracy: 0.9430 - val_loss: 0.1245 - val_accuracy: 0.9762\n",
            "Epoch 6/40\n",
            "92/92 [==============================] - 130s 1s/step - loss: 0.0910 - accuracy: 0.9698 - val_loss: 0.0648 - val_accuracy: 0.9835\n",
            "Epoch 7/40\n",
            "92/92 [==============================] - 130s 1s/step - loss: 0.1106 - accuracy: 0.9550 - val_loss: 0.0445 - val_accuracy: 0.9890\n",
            "Epoch 8/40\n",
            "92/92 [==============================] - 133s 1s/step - loss: 0.0680 - accuracy: 0.9808 - val_loss: 0.0349 - val_accuracy: 0.9927\n",
            "Epoch 9/40\n",
            "92/92 [==============================] - 131s 1s/step - loss: 0.0912 - accuracy: 0.9660 - val_loss: 0.0574 - val_accuracy: 0.9835\n",
            "Epoch 10/40\n",
            "92/92 [==============================] - 130s 1s/step - loss: 0.0912 - accuracy: 0.9655 - val_loss: 0.0515 - val_accuracy: 0.9835\n",
            "Epoch 11/40\n",
            "92/92 [==============================] - 130s 1s/step - loss: 0.0570 - accuracy: 0.9819 - val_loss: 0.0566 - val_accuracy: 0.9872\n",
            "Epoch 12/40\n",
            "92/92 [==============================] - 128s 1s/step - loss: 0.0525 - accuracy: 0.9841 - val_loss: 0.0526 - val_accuracy: 0.9817\n",
            "Epoch 13/40\n",
            "92/92 [==============================] - 130s 1s/step - loss: 0.0493 - accuracy: 0.9863 - val_loss: 0.0293 - val_accuracy: 0.9908\n",
            "Epoch 14/40\n",
            "92/92 [==============================] - 135s 1s/step - loss: 0.0483 - accuracy: 0.9863 - val_loss: 0.0395 - val_accuracy: 0.9853\n",
            "Epoch 15/40\n",
            "92/92 [==============================] - 131s 1s/step - loss: 0.0566 - accuracy: 0.9797 - val_loss: 0.0351 - val_accuracy: 0.9908\n",
            "Epoch 16/40\n",
            "92/92 [==============================] - 129s 1s/step - loss: 0.0933 - accuracy: 0.9781 - val_loss: 0.3316 - val_accuracy: 0.8773\n",
            "Epoch 17/40\n",
            "92/92 [==============================] - 127s 1s/step - loss: 0.1489 - accuracy: 0.9496 - val_loss: 0.0394 - val_accuracy: 0.9908\n",
            "Epoch 18/40\n",
            "92/92 [==============================] - 129s 1s/step - loss: 0.0818 - accuracy: 0.9742 - val_loss: 0.0315 - val_accuracy: 0.9945\n",
            "Epoch 19/40\n",
            "92/92 [==============================] - 130s 1s/step - loss: 0.0719 - accuracy: 0.9764 - val_loss: 0.0393 - val_accuracy: 0.9927\n",
            "Epoch 20/40\n",
            "92/92 [==============================] - 129s 1s/step - loss: 0.0457 - accuracy: 0.9852 - val_loss: 0.0474 - val_accuracy: 0.9872\n",
            "Epoch 21/40\n",
            "92/92 [==============================] - 127s 1s/step - loss: 0.0518 - accuracy: 0.9825 - val_loss: 0.0365 - val_accuracy: 0.9890\n",
            "Epoch 22/40\n",
            "92/92 [==============================] - 129s 1s/step - loss: 0.0429 - accuracy: 0.9879 - val_loss: 0.0402 - val_accuracy: 0.9908\n",
            "Epoch 23/40\n",
            "92/92 [==============================] - 129s 1s/step - loss: 0.0605 - accuracy: 0.9808 - val_loss: 0.0320 - val_accuracy: 0.9908\n",
            "Epoch 24/40\n",
            "92/92 [==============================] - 129s 1s/step - loss: 0.0486 - accuracy: 0.9841 - val_loss: 0.0308 - val_accuracy: 0.9908\n",
            "Epoch 25/40\n",
            "92/92 [==============================] - 127s 1s/step - loss: 0.0485 - accuracy: 0.9814 - val_loss: 0.0340 - val_accuracy: 0.9908\n",
            "Epoch 26/40\n",
            "92/92 [==============================] - 129s 1s/step - loss: 0.0358 - accuracy: 0.9879 - val_loss: 0.0253 - val_accuracy: 0.9927\n",
            "Epoch 27/40\n",
            "92/92 [==============================] - 129s 1s/step - loss: 0.0495 - accuracy: 0.9819 - val_loss: 0.0247 - val_accuracy: 0.9908\n",
            "Epoch 28/40\n",
            "92/92 [==============================] - 129s 1s/step - loss: 0.0443 - accuracy: 0.9852 - val_loss: 0.0164 - val_accuracy: 0.9945\n",
            "Epoch 29/40\n",
            "92/92 [==============================] - 129s 1s/step - loss: 0.0455 - accuracy: 0.9846 - val_loss: 0.0183 - val_accuracy: 0.9945\n",
            "Epoch 30/40\n",
            "92/92 [==============================] - 127s 1s/step - loss: 0.0394 - accuracy: 0.9857 - val_loss: 0.0202 - val_accuracy: 0.9927\n",
            "Epoch 31/40\n",
            "92/92 [==============================] - 129s 1s/step - loss: 0.0459 - accuracy: 0.9885 - val_loss: 0.0257 - val_accuracy: 0.9927\n",
            "Epoch 32/40\n",
            "92/92 [==============================] - 129s 1s/step - loss: 0.0332 - accuracy: 0.9890 - val_loss: 0.0226 - val_accuracy: 0.9908\n",
            "Epoch 33/40\n",
            "92/92 [==============================] - 129s 1s/step - loss: 0.0407 - accuracy: 0.9852 - val_loss: 0.0581 - val_accuracy: 0.9853\n",
            "Epoch 34/40\n",
            "92/92 [==============================] - 129s 1s/step - loss: 0.0415 - accuracy: 0.9868 - val_loss: 0.0320 - val_accuracy: 0.9908\n",
            "Epoch 35/40\n",
            "92/92 [==============================] - 127s 1s/step - loss: 0.0391 - accuracy: 0.9868 - val_loss: 0.0094 - val_accuracy: 0.9963\n",
            "Epoch 36/40\n",
            "92/92 [==============================] - 129s 1s/step - loss: 0.0277 - accuracy: 0.9890 - val_loss: 0.0153 - val_accuracy: 0.9963\n",
            "Epoch 37/40\n",
            "92/92 [==============================] - 129s 1s/step - loss: 0.0347 - accuracy: 0.9874 - val_loss: 0.0142 - val_accuracy: 0.9945\n",
            "Epoch 38/40\n",
            "92/92 [==============================] - 129s 1s/step - loss: 0.0422 - accuracy: 0.9841 - val_loss: 0.0156 - val_accuracy: 0.9945\n",
            "Epoch 39/40\n",
            "92/92 [==============================] - 128s 1s/step - loss: 0.0336 - accuracy: 0.9896 - val_loss: 0.0202 - val_accuracy: 0.9908\n",
            "Epoch 40/40\n",
            "92/92 [==============================] - 127s 1s/step - loss: 0.0336 - accuracy: 0.9890 - val_loss: 0.0168 - val_accuracy: 0.9963\n"
          ]
        }
      ]
    },
    {
      "cell_type": "code",
      "source": [
        "model.save('covid_model.h5')"
      ],
      "metadata": {
        "id": "xPPEFWZduDPg"
      },
      "execution_count": 16,
      "outputs": []
    },
    {
      "cell_type": "code",
      "source": [
        "print(\"training_accuracy\", hist.history['accuracy'][-1])\n",
        "print(\"validation_accuracy\", hist.history['val_accuracy'][-1])"
      ],
      "metadata": {
        "colab": {
          "base_uri": "https://localhost:8080/"
        },
        "id": "sJezf6dsv5UC",
        "outputId": "76851e75-3112-4c7b-c5c0-8e96364a884b"
      },
      "execution_count": 17,
      "outputs": [
        {
          "output_type": "stream",
          "name": "stdout",
          "text": [
            "training_accuracy 0.9890350699424744\n",
            "validation_accuracy 0.9963369965553284\n"
          ]
        }
      ]
    },
    {
      "cell_type": "code",
      "source": [
        "plt.figure(1, figsize = (15, 5))\n",
        "plt.subplot(1,2,1)\n",
        "plt.title(\" Veriseti 2-A, CNN Modeli Loss\")\n",
        "plt.xlabel(\"Epochs\")\n",
        "plt.ylabel(\"Loss\")\n",
        "plt.plot( hist.history[\"loss\"], label = \"Training Loss\")\n",
        "plt.plot( hist.history[\"val_loss\"], label = \"Validation Loss\")\n",
        "plt.grid(True)\n",
        "plt.legend()\n",
        "\n",
        "plt.subplot(1,2,2)\n",
        "plt.title(\" Veriseti 2-B, CNN Modeli Accuracy\")\n",
        "plt.xlabel(\"Epochs\")\n",
        "plt.ylabel(\"Accuracy\")\n",
        "plt.plot( hist.history[\"accuracy\"], label = \"Training Accuracy\")\n",
        "plt.plot( hist.history[\"val_accuracy\"], label = \"Validation Accuracy\")\n",
        "plt.grid(True)\n",
        "plt.legend()\n",
        "plt.show()"
      ],
      "metadata": {
        "colab": {
          "base_uri": "https://localhost:8080/",
          "height": 350
        },
        "id": "QBJBDOXl8oeG",
        "outputId": "fd314170-1d0b-48aa-ab50-df58a2169b37"
      },
      "execution_count": 18,
      "outputs": [
        {
          "output_type": "display_data",
          "data": {
            "text/plain": [
              "<Figure size 1080x360 with 2 Axes>"
            ],
            "image/png": "[encoded data removed]"
          },
          "metadata": {
            "needs_background": "light"
          }
        }
      ]
    },
    {
      "cell_type": "code",
      "source": [
        "from sklearn.metrics import confusion_matrix, classification_report\n",
        "from sklearn.metrics import precision_recall_fscore_support, accuracy_score\n",
        "from sklearn.metrics import precision_score, recall_score, f1_score, accuracy_score\n",
        "from sklearn.metrics import precision_score\n",
        "from sklearn.metrics import matthews_corrcoef\n",
        "\n",
        "classes = ['Non-COVID-19', 'COVID-19']\n",
        "\n",
        "y_pred = model.predict(validation_generator)\n",
        "predictions = np.array(list(map(lambda x: np.argmax(x), y_pred)))\n",
        "\n",
        "y_true=validation_generator.classes\n",
        "\n",
        "CMatrix = pd.DataFrame(confusion_matrix(y_true, predictions), columns=classes, index =classes)\n",
        "\n",
        "plt.figure(figsize=(12, 6))\n",
        "\n",
        "ax = sns.heatmap(CMatrix, annot = True, fmt = 'g' ,vmin = 0, vmax = 250,cmap = 'Blues')\n",
        "ax.set_xlabel('Predicted',fontsize = 14,weight = 'bold')\n",
        "ax.set_xticklabels(ax.get_xticklabels(),rotation =0);\n",
        "\n",
        "ax.set_ylabel('Actual',fontsize = 14,weight = 'bold') \n",
        "ax.set_yticklabels(ax.get_yticklabels(),rotation =0);\n",
        "ax.set_title(' Veriseti 2-B, CNN Modeli Confusion Matrix',fontsize = 16,weight = 'bold',pad=20);"
      ],
      "metadata": {
        "colab": {
          "base_uri": "https://localhost:8080/",
          "height": 442
        },
        "id": "S4juCxkZwBlM",
        "outputId": "51ffec19-7dbc-494e-d390-81fb14989ef5"
      },
      "execution_count": 19,
      "outputs": [
        {
          "output_type": "stream",
          "name": "stdout",
          "text": [
            "28/28 [==============================] - 11s 375ms/step\n"
          ]
        },
        {
          "output_type": "display_data",
          "data": {
            "text/plain": [
              "<Figure size 864x432 with 2 Axes>"
            ],
            "image/png": "[encoded data removed]"
          },
          "metadata": {
            "needs_background": "light"
          }
        }
      ]
    },
    {
      "cell_type": "code",
      "source": [
        "print(classification_report(y_true, predictions))"
      ],
      "metadata": {
        "colab": {
          "base_uri": "https://localhost:8080/"
        },
        "id": "WgYDpr0lwcwD",
        "outputId": "0661ca45-145e-44fc-a7e2-539b434735e8"
      },
      "execution_count": 20,
      "outputs": [
        {
          "output_type": "stream",
          "name": "stdout",
          "text": [
            "              precision    recall  f1-score   support\n",
            "\n",
            "           0       0.99      1.00      1.00       273\n",
            "           1       1.00      0.99      1.00       273\n",
            "\n",
            "    accuracy                           1.00       546\n",
            "   macro avg       1.00      1.00      1.00       546\n",
            "weighted avg       1.00      1.00      1.00       546\n",
            "\n"
          ]
        }
      ]
    },
    {
      "cell_type": "code",
      "source": [
        "print(\"2-B. Veriseti - CNN Modeli\")\n",
        "print('Precision: %.3f' % precision_score(y_true, predictions))\n",
        "print('Recall: %.3f' % recall_score(y_true, predictions))\n",
        "print('Accuracy: %.3f' % accuracy_score(y_true, predictions))\n",
        "print('F1 Score: %.3f' % f1_score(y_true, predictions))\n",
        "print('Positive Predictive Value (PPV) Score: %.3f' % precision_score(y_true, predictions))\n",
        "print('Matthews correlation coefficient (MCC) Score: %.3f' % matthews_corrcoef(y_true, predictions))"
      ],
      "metadata": {
        "colab": {
          "base_uri": "https://localhost:8080/"
        },
        "id": "O3OD4dVQwnG7",
        "outputId": "cd9fa40f-3c28-495c-ab79-aa54cb136c9d"
      },
      "execution_count": 21,
      "outputs": [
        {
          "output_type": "stream",
          "name": "stdout",
          "text": [
            "2-B. Veriseti - CNN Modeli\n",
            "Precision: 1.000\n",
            "Recall: 0.993\n",
            "Accuracy: 0.996\n",
            "F1 Score: 0.996\n",
            "Positive Predictive Value (PPV) Score: 1.000\n",
            "Matthews correlation coefficient (MCC) Score: 0.993\n"
          ]
        }
      ]
    },
    {
      "cell_type": "code",
      "source": [
        "from sklearn.metrics import RocCurveDisplay\n",
        "from sklearn import metrics\n",
        "fpr, tpr, _ = metrics.roc_curve(y_true, predictions)\n",
        "\n",
        "#create ROC curve\n",
        "plt.plot(fpr,tpr)\n",
        "plt.plot([0, 1], [0, 1], \"k--\")\n",
        "plt.ylabel('True Positive Rate')\n",
        "plt.xlabel('False Positive Rate')\n",
        "plt.title(\" Veriseti 2-B, CNN Modeli ROC Curve\")\n",
        "plt.show()"
      ],
      "metadata": {
        "colab": {
          "base_uri": "https://localhost:8080/",
          "height": 295
        },
        "id": "1yZsP62hwnCH",
        "outputId": "603d0fbe-8fe1-4aab-f8cf-90e268ad4da5"
      },
      "execution_count": 22,
      "outputs": [
        {
          "output_type": "display_data",
          "data": {
            "text/plain": [
              "<Figure size 432x288 with 1 Axes>"
            ],
            "image/png": "[encoded data removed]"
          },
          "metadata": {
            "needs_background": "light"
          }
        }
      ]
    }
  ]
}