{
  "cells": [
    {
      "cell_type": "code",
      "execution_count": 1,
      "metadata": {
        "id": "F_5DgOF50Eg0"
      },
      "outputs": [],
      "source": [
        "import os\n",
        "import matplotlib.pyplot as plt\n",
        "import numpy as np\n",
        "import numpy as np \n",
        "import pandas as pd \n",
        "import seaborn as sns\n",
        "import matplotlib.pyplot as plt\n",
        "from PIL import Image\n",
        "from matplotlib.image import imread\n",
        "import os\n",
        "import random\n",
        "import cv2\n",
        "import h5py\n",
        "from tensorflow import keras\n",
        "from keras.models import Sequential, Model\n",
        "from keras.layers import Conv2D, MaxPooling2D, AveragePooling2D\n",
        "from keras.layers import Activation, Dropout,  Flatten, Dense,MaxPool2D\n",
        "from skimage.segmentation import mark_boundaries\n",
        "from sklearn.model_selection import train_test_split\n",
        "from keras.preprocessing import image\n",
        "from tensorflow.keras.preprocessing.image import ImageDataGenerator\n",
        "from tensorflow.keras.optimizers import Adam\n",
        "from tensorflow.keras.layers import *\n",
        "from tensorflow.keras.models import Sequential\n",
        "from tensorflow.keras.callbacks import ModelCheckpoint\n",
        "from tensorflow.keras.regularizers import l2\n",
        "from keras.models import Sequential, Model\n",
        "from tensorflow.keras.layers import Dense, Flatten, Input\n",
        "from tensorflow.keras.applications.inception_resnet_v2 import preprocess_input\n"
      ]
    },
    {
      "cell_type": "code",
      "execution_count": 2,
      "metadata": {
        "id": "y0fAYVCK0PcV"
      },
      "outputs": [],
      "source": [
        "im_shape = (224,224)\n",
        "images = '/content/drive/MyDrive/Deep Learning/Database/33/COVID-19_Radiography_Dataset'\n",
        "\n",
        "seed = 10\n",
        "\n",
        "BATCH_SIZE = 20"
      ]
    },
    {
      "cell_type": "code",
      "execution_count": 3,
      "metadata": {
        "colab": {
          "base_uri": "https://localhost:8080/"
        },
        "id": "a3zvwxylwLmW",
        "outputId": "84c1d781-3257-4443-f357-574b0d254b21"
      },
      "outputs": [
        {
          "output_type": "stream",
          "name": "stdout",
          "text": [
            "['COVID', 'Viral Pneumonia']\n"
          ]
        }
      ],
      "source": [
        "folders = os.listdir(images)\n",
        "print(folders)"
      ]
    },
    {
      "cell_type": "code",
      "execution_count": 4,
      "metadata": {
        "id": "s-vR2GN01ufo"
      },
      "outputs": [],
      "source": [
        "data_generator = ImageDataGenerator( \n",
        "                              rescale = 1./255,\n",
        "                                   zoom_range = 0.2,\n",
        "                                   rotation_range=15,\n",
        "                                   horizontal_flip = True\n",
        "                            )\n",
        "val_data_generator = ImageDataGenerator(rescale = 1./255,validation_split=0.3)"
      ]
    },
    {
      "cell_type": "code",
      "execution_count": 5,
      "metadata": {
        "colab": {
          "base_uri": "https://localhost:8080/"
        },
        "id": "Wf1-zM2mu55I",
        "outputId": "84bc2691-9747-4a80-86e0-a6c077936b63"
      },
      "outputs": [
        {
          "output_type": "stream",
          "name": "stdout",
          "text": [
            "Found 2257 images belonging to 2 classes.\n",
            "Found 676 images belonging to 2 classes.\n",
            "Classes: ['COVID', 'Viral Pneumonia']\n"
          ]
        }
      ],
      "source": [
        "train_generator = data_generator.flow_from_directory(images, target_size=im_shape, shuffle=True, seed=seed,\n",
        "                                                     class_mode='categorical', batch_size=BATCH_SIZE, subset=\"training\")\n",
        "# Generator para parte validação\n",
        "validation_generator = val_data_generator.flow_from_directory(images, target_size=im_shape, shuffle=False, seed=seed,\n",
        "                                                     class_mode='categorical', batch_size=BATCH_SIZE, subset=\"validation\")\n",
        "\n",
        "nb_train_samples = train_generator.samples\n",
        "nb_validation_samples = validation_generator.samples\n",
        "classes = list(train_generator.class_indices.keys())\n",
        "print('Classes: '+str(classes))\n",
        "num_classes  = len(classes)"
      ]
    },
    {
      "cell_type": "code",
      "execution_count": 6,
      "metadata": {
        "colab": {
          "base_uri": "https://localhost:8080/"
        },
        "id": "91RvwCHd1uZ4",
        "outputId": "773ffa1e-d830-44ce-e0dd-d5fc9ed61dd1"
      },
      "outputs": [
        {
          "output_type": "stream",
          "name": "stdout",
          "text": [
            "Model: \"sequential\"\n",
            "_________________________________________________________________\n",
            " Layer (type)                Output Shape              Param #   \n",
            "=================================================================\n",
            " conv2d (Conv2D)             (None, 222, 222, 16)      448       \n",
            "                                                                 \n",
            " max_pooling2d (MaxPooling2D  (None, 111, 111, 16)     0         \n",
            " )                                                               \n",
            "                                                                 \n",
            " conv2d_1 (Conv2D)           (None, 109, 109, 32)      4640      \n",
            "                                                                 \n",
            " max_pooling2d_1 (MaxPooling  (None, 54, 54, 32)       0         \n",
            " 2D)                                                             \n",
            "                                                                 \n",
            " dropout (Dropout)           (None, 54, 54, 32)        0         \n",
            "                                                                 \n",
            " conv2d_2 (Conv2D)           (None, 52, 52, 64)        18496     \n",
            "                                                                 \n",
            " max_pooling2d_2 (MaxPooling  (None, 26, 26, 64)       0         \n",
            " 2D)                                                             \n",
            "                                                                 \n",
            " dropout_1 (Dropout)         (None, 26, 26, 64)        0         \n",
            "                                                                 \n",
            " conv2d_3 (Conv2D)           (None, 24, 24, 128)       73856     \n",
            "                                                                 \n",
            " max_pooling2d_3 (MaxPooling  (None, 12, 12, 128)      0         \n",
            " 2D)                                                             \n",
            "                                                                 \n",
            " dropout_2 (Dropout)         (None, 12, 12, 128)       0         \n",
            "                                                                 \n",
            " conv2d_4 (Conv2D)           (None, 10, 10, 256)       295168    \n",
            "                                                                 \n",
            " max_pooling2d_4 (MaxPooling  (None, 5, 5, 256)        0         \n",
            " 2D)                                                             \n",
            "                                                                 \n",
            " dropout_3 (Dropout)         (None, 5, 5, 256)         0         \n",
            "                                                                 \n",
            " flatten (Flatten)           (None, 6400)              0         \n",
            "                                                                 \n",
            " dense (Dense)               (None, 256)               1638656   \n",
            "                                                                 \n",
            " dropout_4 (Dropout)         (None, 256)               0         \n",
            "                                                                 \n",
            " dense_1 (Dense)             (None, 2)                 514       \n",
            "                                                                 \n",
            "=================================================================\n",
            "Total params: 2,031,778\n",
            "Trainable params: 2,031,778\n",
            "Non-trainable params: 0\n",
            "_________________________________________________________________\n"
          ]
        }
      ],
      "source": [
        "model = Sequential()\n",
        "model.add(Conv2D(16,(3,3),activation = \"relu\", input_shape = (224,224,3)))\n",
        "model.add(MaxPool2D())\n",
        "\n",
        "model.add(Conv2D( 32, (3,3), activation = \"relu\", ))\n",
        "model.add(MaxPool2D())\n",
        "model.add(Dropout(0.2))\n",
        "\n",
        "model.add(Conv2D( 64,(3,3), activation = \"relu\"))\n",
        "model.add(MaxPool2D())\n",
        "model.add(Dropout(0.2))\n",
        "\n",
        "model.add(Conv2D( 128,(3,3), activation = \"relu\"))\n",
        "model.add(MaxPool2D())\n",
        "model.add(Dropout(0.2))\n",
        "\n",
        "model.add(Conv2D( 256,(3,3), activation = \"relu\"))\n",
        "model.add(MaxPool2D())\n",
        "model.add(Dropout(0.2))\n",
        "\n",
        "\n",
        "model.add(Flatten())\n",
        "model.add(Dense(256, activation = \"relu\"))\n",
        "model.add(Dropout(0.15))\n",
        "\n",
        "model.add(Dense(2, activation = \"softmax\"))\n",
        "\n",
        "\n",
        "model.compile(loss = \"categorical_crossentropy\", optimizer = \"adam\", metrics = [\"accuracy\"])\n",
        "\n",
        "\n",
        "\n",
        "\n",
        "model.summary()"
      ]
    },
    {
      "cell_type": "code",
      "execution_count": 7,
      "metadata": {
        "colab": {
          "base_uri": "https://localhost:8080/"
        },
        "id": "FZUaDo3V1uWt",
        "outputId": "3a5ad829-6fa9-42fc-d95a-e05f579acf66"
      },
      "outputs": [
        {
          "output_type": "stream",
          "name": "stdout",
          "text": [
            "Epoch 1/40\n",
            "113/113 [==============================] - 373s 3s/step - loss: 0.4411 - accuracy: 0.7674 - val_loss: 0.1816 - val_accuracy: 0.9601\n",
            "Epoch 2/40\n",
            "113/113 [==============================] - 180s 2s/step - loss: 0.1749 - accuracy: 0.9384 - val_loss: 0.0984 - val_accuracy: 0.9719\n",
            "Epoch 3/40\n",
            "113/113 [==============================] - 188s 2s/step - loss: 0.1534 - accuracy: 0.9433 - val_loss: 0.0879 - val_accuracy: 0.9675\n",
            "Epoch 4/40\n",
            "113/113 [==============================] - 183s 2s/step - loss: 0.1333 - accuracy: 0.9579 - val_loss: 0.1241 - val_accuracy: 0.9615\n",
            "Epoch 5/40\n",
            "113/113 [==============================] - 180s 2s/step - loss: 0.1369 - accuracy: 0.9539 - val_loss: 0.0730 - val_accuracy: 0.9778\n",
            "Epoch 6/40\n",
            "113/113 [==============================] - 173s 2s/step - loss: 0.1192 - accuracy: 0.9553 - val_loss: 0.1053 - val_accuracy: 0.9615\n",
            "Epoch 7/40\n",
            "113/113 [==============================] - 166s 1s/step - loss: 0.1142 - accuracy: 0.9619 - val_loss: 0.0941 - val_accuracy: 0.9704\n",
            "Epoch 8/40\n",
            "113/113 [==============================] - 164s 1s/step - loss: 0.1083 - accuracy: 0.9641 - val_loss: 0.0718 - val_accuracy: 0.9763\n",
            "Epoch 9/40\n",
            "113/113 [==============================] - 162s 1s/step - loss: 0.1006 - accuracy: 0.9659 - val_loss: 0.0363 - val_accuracy: 0.9911\n",
            "Epoch 10/40\n",
            "113/113 [==============================] - 158s 1s/step - loss: 0.0920 - accuracy: 0.9690 - val_loss: 0.0451 - val_accuracy: 0.9852\n",
            "Epoch 11/40\n",
            "113/113 [==============================] - 159s 1s/step - loss: 0.1024 - accuracy: 0.9663 - val_loss: 0.0539 - val_accuracy: 0.9808\n",
            "Epoch 12/40\n",
            "113/113 [==============================] - 163s 1s/step - loss: 0.0873 - accuracy: 0.9659 - val_loss: 0.0729 - val_accuracy: 0.9763\n",
            "Epoch 13/40\n",
            "113/113 [==============================] - 165s 1s/step - loss: 0.0879 - accuracy: 0.9685 - val_loss: 0.0313 - val_accuracy: 0.9896\n",
            "Epoch 14/40\n",
            "113/113 [==============================] - 162s 1s/step - loss: 0.0878 - accuracy: 0.9716 - val_loss: 0.0517 - val_accuracy: 0.9808\n",
            "Epoch 15/40\n",
            "113/113 [==============================] - 164s 1s/step - loss: 0.0870 - accuracy: 0.9725 - val_loss: 0.0253 - val_accuracy: 0.9926\n",
            "Epoch 16/40\n",
            "113/113 [==============================] - 167s 1s/step - loss: 0.0730 - accuracy: 0.9725 - val_loss: 0.0724 - val_accuracy: 0.9749\n",
            "Epoch 17/40\n",
            "113/113 [==============================] - 167s 1s/step - loss: 0.0988 - accuracy: 0.9646 - val_loss: 0.0655 - val_accuracy: 0.9704\n",
            "Epoch 18/40\n",
            "113/113 [==============================] - 165s 1s/step - loss: 0.0956 - accuracy: 0.9725 - val_loss: 0.0717 - val_accuracy: 0.9778\n",
            "Epoch 19/40\n",
            "113/113 [==============================] - 166s 1s/step - loss: 0.0734 - accuracy: 0.9747 - val_loss: 0.0262 - val_accuracy: 0.9911\n",
            "Epoch 20/40\n",
            "113/113 [==============================] - 167s 1s/step - loss: 0.0586 - accuracy: 0.9805 - val_loss: 0.0124 - val_accuracy: 0.9970\n",
            "Epoch 21/40\n",
            "113/113 [==============================] - 166s 1s/step - loss: 0.0695 - accuracy: 0.9778 - val_loss: 0.0279 - val_accuracy: 0.9867\n",
            "Epoch 22/40\n",
            "113/113 [==============================] - 166s 1s/step - loss: 0.0687 - accuracy: 0.9756 - val_loss: 0.0453 - val_accuracy: 0.9882\n",
            "Epoch 23/40\n",
            "113/113 [==============================] - 167s 1s/step - loss: 0.0706 - accuracy: 0.9774 - val_loss: 0.0158 - val_accuracy: 0.9956\n",
            "Epoch 24/40\n",
            "113/113 [==============================] - 169s 1s/step - loss: 0.0595 - accuracy: 0.9783 - val_loss: 0.0210 - val_accuracy: 0.9896\n",
            "Epoch 25/40\n",
            "113/113 [==============================] - 165s 1s/step - loss: 0.0751 - accuracy: 0.9716 - val_loss: 0.0442 - val_accuracy: 0.9852\n",
            "Epoch 26/40\n",
            "113/113 [==============================] - 166s 1s/step - loss: 0.0714 - accuracy: 0.9712 - val_loss: 0.0272 - val_accuracy: 0.9896\n",
            "Epoch 27/40\n",
            "113/113 [==============================] - 169s 1s/step - loss: 0.0783 - accuracy: 0.9721 - val_loss: 0.0416 - val_accuracy: 0.9837\n",
            "Epoch 28/40\n",
            "113/113 [==============================] - 167s 1s/step - loss: 0.0627 - accuracy: 0.9734 - val_loss: 0.0239 - val_accuracy: 0.9970\n",
            "Epoch 29/40\n",
            "113/113 [==============================] - 187s 2s/step - loss: 0.0562 - accuracy: 0.9805 - val_loss: 0.0520 - val_accuracy: 0.9778\n",
            "Epoch 30/40\n",
            "113/113 [==============================] - 168s 1s/step - loss: 0.0546 - accuracy: 0.9814 - val_loss: 0.0177 - val_accuracy: 0.9970\n",
            "Epoch 31/40\n",
            "113/113 [==============================] - 167s 1s/step - loss: 0.0654 - accuracy: 0.9792 - val_loss: 0.0191 - val_accuracy: 0.9956\n",
            "Epoch 32/40\n",
            "113/113 [==============================] - 168s 1s/step - loss: 0.0473 - accuracy: 0.9836 - val_loss: 0.0153 - val_accuracy: 0.9941\n",
            "Epoch 33/40\n",
            "113/113 [==============================] - 173s 2s/step - loss: 0.0580 - accuracy: 0.9832 - val_loss: 0.0424 - val_accuracy: 0.9808\n",
            "Epoch 34/40\n",
            "113/113 [==============================] - 167s 1s/step - loss: 0.0544 - accuracy: 0.9805 - val_loss: 0.0100 - val_accuracy: 1.0000\n",
            "Epoch 35/40\n",
            "113/113 [==============================] - 168s 1s/step - loss: 0.0510 - accuracy: 0.9809 - val_loss: 0.0147 - val_accuracy: 0.9956\n",
            "Epoch 36/40\n",
            "113/113 [==============================] - 168s 1s/step - loss: 0.0592 - accuracy: 0.9809 - val_loss: 0.0445 - val_accuracy: 0.9896\n",
            "Epoch 37/40\n",
            "113/113 [==============================] - 168s 1s/step - loss: 0.0668 - accuracy: 0.9805 - val_loss: 0.0172 - val_accuracy: 0.9970\n",
            "Epoch 38/40\n",
            "113/113 [==============================] - 166s 1s/step - loss: 0.0407 - accuracy: 0.9867 - val_loss: 0.0151 - val_accuracy: 0.9956\n",
            "Epoch 39/40\n",
            "113/113 [==============================] - 166s 1s/step - loss: 0.0436 - accuracy: 0.9854 - val_loss: 0.0121 - val_accuracy: 0.9970\n",
            "Epoch 40/40\n",
            "113/113 [==============================] - 169s 1s/step - loss: 0.0566 - accuracy: 0.9823 - val_loss: 0.0369 - val_accuracy: 0.9970\n"
          ]
        }
      ],
      "source": [
        "hist = model.fit(train_generator,\n",
        "                 validation_data=validation_generator,\n",
        "                 batch_size=20,\n",
        "                 epochs = 40\n",
        "                )\n",
        "\n"
      ]
    },
    {
      "cell_type": "code",
      "execution_count": 8,
      "metadata": {
        "id": "xPPEFWZduDPg"
      },
      "outputs": [],
      "source": [
        "model.save('covid_model.h5')"
      ]
    },
    {
      "cell_type": "code",
      "execution_count": 9,
      "metadata": {
        "colab": {
          "base_uri": "https://localhost:8080/"
        },
        "id": "sJezf6dsv5UC",
        "outputId": "8101ffd7-f27c-49b5-b329-05e7f1824412"
      },
      "outputs": [
        {
          "output_type": "stream",
          "name": "stdout",
          "text": [
            "training_accuracy 0.9822773337364197\n",
            "validation_accuracy 0.9970414042472839\n"
          ]
        }
      ],
      "source": [
        "print(\"training_accuracy\", hist.history['accuracy'][-1])\n",
        "print(\"validation_accuracy\", hist.history['val_accuracy'][-1])"
      ]
    },
    {
      "cell_type": "code",
      "execution_count": 10,
      "metadata": {
        "colab": {
          "base_uri": "https://localhost:8080/",
          "height": 350
        },
        "id": "QBJBDOXl8oeG",
        "outputId": "a48cc50f-4aa1-41a5-8974-bdcebf82470f"
      },
      "outputs": [
        {
          "output_type": "display_data",
          "data": {
            "text/plain": [
              "<Figure size 1080x360 with 2 Axes>"
            ],
            "image/png": "[encoded data removed]"
          },
          "metadata": {
            "needs_background": "light"
          }
        }
      ],
      "source": [
        "plt.figure(1, figsize = (15, 5))\n",
        "plt.subplot(1,2,1)\n",
        "plt.title(\" Veriseti 3, CNN Modeli Loss\")\n",
        "plt.xlabel(\"Epochs\")\n",
        "plt.ylabel(\"Loss\")\n",
        "plt.plot( hist.history[\"loss\"], label = \"Training Loss\")\n",
        "plt.plot( hist.history[\"val_loss\"], label = \"Validation Loss\")\n",
        "plt.grid(True)\n",
        "plt.legend()\n",
        "\n",
        "plt.subplot(1,2,2)\n",
        "plt.title(\" Veriseti 3, CNN Modeli Accuracy\")\n",
        "plt.xlabel(\"Epochs\")\n",
        "plt.ylabel(\"Accuracy\")\n",
        "plt.plot( hist.history[\"accuracy\"], label = \"Training Accuracy\")\n",
        "plt.plot( hist.history[\"val_accuracy\"], label = \"Validation Accuracy\")\n",
        "plt.grid(True)\n",
        "plt.legend()\n",
        "plt.show()"
      ]
    },
    {
      "cell_type": "code",
      "execution_count": 11,
      "metadata": {
        "colab": {
          "base_uri": "https://localhost:8080/",
          "height": 442
        },
        "id": "S4juCxkZwBlM",
        "outputId": "1816fe49-4254-4eb4-f0d9-6da6673e5c56"
      },
      "outputs": [
        {
          "output_type": "stream",
          "name": "stdout",
          "text": [
            "34/34 [==============================] - 20s 558ms/step\n"
          ]
        },
        {
          "output_type": "display_data",
          "data": {
            "text/plain": [
              "<Figure size 864x432 with 2 Axes>"
            ],
            "image/png": "[encoded data removed]"
          },
          "metadata": {
            "needs_background": "light"
          }
        }
      ],
      "source": [
        "from sklearn.metrics import confusion_matrix, classification_report\n",
        "from sklearn.metrics import precision_recall_fscore_support, accuracy_score\n",
        "from sklearn.metrics import precision_score, recall_score, f1_score, accuracy_score\n",
        "from sklearn.metrics import precision_score\n",
        "from sklearn.metrics import matthews_corrcoef\n",
        "\n",
        "classes = ['COVID', 'Viral Pneumonia']\n",
        "\n",
        "y_pred = model.predict(validation_generator)\n",
        "predictions = np.array(list(map(lambda x: np.argmax(x), y_pred)))\n",
        "\n",
        "y_true=validation_generator.classes\n",
        "\n",
        "CMatrix = pd.DataFrame(confusion_matrix(y_true, predictions), columns=classes, index =classes)\n",
        "\n",
        "plt.figure(figsize=(12, 6))\n",
        "\n",
        "ax = sns.heatmap(CMatrix, annot = True, fmt = 'g' ,vmin = 0, vmax = 250,cmap = 'Blues')\n",
        "ax.set_xlabel('Predicted',fontsize = 14,weight = 'bold')\n",
        "ax.set_xticklabels(ax.get_xticklabels(),rotation =0);\n",
        "\n",
        "ax.set_ylabel('Actual',fontsize = 14,weight = 'bold') \n",
        "ax.set_yticklabels(ax.get_yticklabels(),rotation =0);\n",
        "ax.set_title(' Veriseti 3, CNN Modeli Confusion Matrix',fontsize = 16,weight = 'bold',pad=20);"
      ]
    },
    {
      "cell_type": "code",
      "execution_count": 12,
      "metadata": {
        "colab": {
          "base_uri": "https://localhost:8080/"
        },
        "id": "WgYDpr0lwcwD",
        "outputId": "a72a7652-b20c-4ec6-b655-16ee46f8b8f2"
      },
      "outputs": [
        {
          "output_type": "stream",
          "name": "stdout",
          "text": [
            "              precision    recall  f1-score   support\n",
            "\n",
            "           0       1.00      1.00      1.00       273\n",
            "           1       1.00      1.00      1.00       403\n",
            "\n",
            "    accuracy                           1.00       676\n",
            "   macro avg       1.00      1.00      1.00       676\n",
            "weighted avg       1.00      1.00      1.00       676\n",
            "\n"
          ]
        }
      ],
      "source": [
        "print(classification_report(y_true, predictions))"
      ]
    },
    {
      "cell_type": "code",
      "execution_count": 13,
      "metadata": {
        "colab": {
          "base_uri": "https://localhost:8080/"
        },
        "id": "O3OD4dVQwnG7",
        "outputId": "066f8ce7-4a31-4c29-a80d-23e86b2d17b6"
      },
      "outputs": [
        {
          "output_type": "stream",
          "name": "stdout",
          "text": [
            "3. Veriseti - CNN Modeli\n",
            "Precision: 0.998\n",
            "Recall: 0.998\n",
            "Accuracy: 0.997\n",
            "F1 Score: 0.998\n",
            "Positive Predictive Value (PPV) Score: 0.998\n",
            "Matthews correlation coefficient (MCC) Score: 0.994\n"
          ]
        }
      ],
      "source": [
        "print(\"3. Veriseti - CNN Modeli\")\n",
        "print('Precision: %.3f' % precision_score(y_true, predictions))\n",
        "print('Recall: %.3f' % recall_score(y_true, predictions))\n",
        "print('Accuracy: %.3f' % accuracy_score(y_true, predictions))\n",
        "print('F1 Score: %.3f' % f1_score(y_true, predictions))\n",
        "print('Positive Predictive Value (PPV) Score: %.3f' % precision_score(y_true, predictions))\n",
        "print('Matthews correlation coefficient (MCC) Score: %.3f' % matthews_corrcoef(y_true, predictions))"
      ]
    },
    {
      "cell_type": "code",
      "execution_count": 14,
      "metadata": {
        "colab": {
          "base_uri": "https://localhost:8080/",
          "height": 295
        },
        "id": "1yZsP62hwnCH",
        "outputId": "f295c4b0-e3dd-4b71-a6c0-4d2e6ba7c739"
      },
      "outputs": [
        {
          "output_type": "display_data",
          "data": {
            "text/plain": [
              "<Figure size 432x288 with 1 Axes>"
            ],
            "image/png": "[encoded data removed]"
          },
          "metadata": {
            "needs_background": "light"
          }
        }
      ],
      "source": [
        "from sklearn.metrics import RocCurveDisplay\n",
        "from sklearn import metrics\n",
        "fpr, tpr, _ = metrics.roc_curve(y_true, predictions)\n",
        "\n",
        "#create ROC curve\n",
        "plt.plot(fpr,tpr)\n",
        "plt.plot([0, 1], [0, 1], \"k--\")\n",
        "plt.ylabel('True Positive Rate')\n",
        "plt.xlabel('False Positive Rate')\n",
        "plt.title(\" Veriseti 3, CNN Modeli ROC Curve\")\n",
        "plt.show()"
      ]
    }
  ],
  "metadata": {
    "colab": {
      "provenance": []
    },
    "kernelspec": {
      "display_name": "Python 3",
      "name": "python3"
    },
    "language_info": {
      "name": "python"
    }
  },
  "nbformat": 4,
  "nbformat_minor": 0
}