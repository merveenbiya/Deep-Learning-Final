{
  "cells": [
    {
      "cell_type": "code",
      "execution_count": null,
      "metadata": {
        "id": "F_5DgOF50Eg0"
      },
      "outputs": [],
      "source": [
        "import os\n",
        "import matplotlib.pyplot as plt\n",
        "import numpy as np\n",
        "import numpy as np \n",
        "import pandas as pd \n",
        "import seaborn as sns\n",
        "import matplotlib.pyplot as plt\n",
        "from PIL import Image\n",
        "from matplotlib.image import imread\n",
        "import os\n",
        "import random\n",
        "import cv2\n",
        "import h5py\n",
        "from tensorflow import keras\n",
        "from keras.models import Sequential, Model\n",
        "from keras.layers import Conv2D, MaxPooling2D, AveragePooling2D\n",
        "from keras.layers import Activation, Dropout,  Flatten, Dense,MaxPool2D\n",
        "from skimage.segmentation import mark_boundaries\n",
        "from sklearn.model_selection import train_test_split\n",
        "from keras.preprocessing import image\n",
        "from tensorflow.keras.preprocessing.image import ImageDataGenerator\n",
        "from tensorflow.keras.optimizers import Adam\n",
        "from tensorflow.keras.layers import *\n",
        "from tensorflow.keras.models import Sequential\n",
        "from tensorflow.keras.callbacks import ModelCheckpoint\n",
        "from tensorflow.keras.regularizers import l2\n",
        "from keras.models import Sequential, Model\n",
        "from tensorflow.keras.layers import Dense, Flatten, Input\n",
        "from tensorflow.keras.applications.inception_resnet_v2 import preprocess_input\n"
      ]
    },
    {
      "cell_type": "code",
      "execution_count": null,
      "metadata": {
        "id": "y0fAYVCK0PcV"
      },
      "outputs": [],
      "source": [
        "im_shape = (224,224)\n",
        "images = '/content/drive/MyDrive/Deep Learning/Database/33/COVID-19_Radiography_Dataset'\n",
        "\n",
        "seed = 10\n",
        "\n",
        "BATCH_SIZE = 20"
      ]
    },
    {
      "cell_type": "code",
      "execution_count": null,
      "metadata": {
        "colab": {
          "base_uri": "https://localhost:8080/"
        },
        "id": "a3zvwxylwLmW",
        "outputId": "84c1d781-3257-4443-f357-574b0d254b21"
      },
      "outputs": [
        {
          "output_type": "stream",
          "name": "stdout",
          "text": [
            "['COVID', 'Viral Pneumonia']\n"
          ]
        }
      ],
      "source": [
        "folders = os.listdir(images)\n",
        "print(folders)"
      ]
    },
    {
      "cell_type": "code",
      "execution_count": null,
      "metadata": {
        "id": "s-vR2GN01ufo"
      },
      "outputs": [],
      "source": [
        "data_generator = ImageDataGenerator( \n",
        "                              rescale = 1./255,\n",
        "                                   zoom_range = 0.2,\n",
        "                                   rotation_range=15,\n",
        "                                   horizontal_flip = True\n",
        "                            )\n",
        "val_data_generator = ImageDataGenerator(rescale = 1./255,validation_split=0.3)"
      ]
    },
    {
      "cell_type": "code",
      "execution_count": null,
      "metadata": {
        "colab": {
          "base_uri": "https://localhost:8080/"
        },
        "id": "Wf1-zM2mu55I",
        "outputId": "84bc2691-9747-4a80-86e0-a6c077936b63"
      },
      "outputs": [
        {
          "output_type": "stream",
          "name": "stdout",
          "text": [
            "Found 2257 images belonging to 2 classes.\n",
            "Found 676 images belonging to 2 classes.\n",
            "Classes: ['COVID', 'Viral Pneumonia']\n"
          ]
        }
      ],
      "source": [
        "train_generator = data_generator.flow_from_directory(images, target_size=im_shape, shuffle=True, seed=seed,\n",
        "                                                     class_mode='categorical', batch_size=BATCH_SIZE, subset=\"training\")\n",
        "# Generator para parte validação\n",
        "validation_generator = val_data_generator.flow_from_directory(images, target_size=im_shape, shuffle=False, seed=seed,\n",
        "                                                     class_mode='categorical', batch_size=BATCH_SIZE, subset=\"validation\")\n",
        "\n",
        "nb_train_samples = train_generator.samples\n",
        "nb_validation_samples = validation_generator.samples\n",
        "classes = list(train_generator.class_indices.keys())\n",
        "print('Classes: '+str(classes))\n",
        "num_classes  = len(classes)"
      ]
    },
    {
      "cell_type": "code",
      "execution_count": null,
      "metadata": {
        "id": "91RvwCHd1uZ4"
      },
      "outputs": [],
      "source": [
        "model = Sequential()\n",
        "model.add(ConvLSTM2D(16,(3,3),activation = \"relu\", input_shape=( 224, 224, 224, 3) ))\n",
        "model.add(MaxPool2D())\n",
        "\n",
        "model.add(Conv2D( 32, (3,3), activation = \"relu\"))\n",
        "model.add(MaxPool2D())\n",
        "model.add(Dropout(0.2))\n",
        "\n",
        "model.add(Conv2D( 64,(3,3), activation = \"relu\"))\n",
        "model.add(MaxPool2D())\n",
        "model.add(Dropout(0.2))\n",
        "\n",
        "model.add(Conv2D( 128,(3,3), activation = \"relu\"))\n",
        "model.add(MaxPool2D())\n",
        "model.add(Dropout(0.2))\n",
        "\n",
        "model.add(Flatten())\n",
        "model.add(Dense(128, activation = \"relu\"))\n",
        "\n",
        "\n",
        "model.add(Dense(2, activation = \"softmax\"))\n",
        "\n",
        "\n",
        "model.compile(loss = \"categorical_crossentropy\", optimizer = \"adam\", metrics = [\"accuracy\"])\n",
        "\n",
        "\n",
        "\n",
        "\n",
        "model.summary()"
      ]
    },
    {
      "cell_type": "code",
      "execution_count": null,
      "metadata": {
        "id": "FZUaDo3V1uWt"
      },
      "outputs": [],
      "source": [
        "hist = model.fit(train_generator,\n",
        "                 validation_data=validation_generator,\n",
        "                 batch_size=20,\n",
        "                 epochs = 40\n",
        "                )\n",
        "\n"
      ]
    },
    {
      "cell_type": "code",
      "execution_count": null,
      "metadata": {
        "id": "xPPEFWZduDPg"
      },
      "outputs": [],
      "source": [
        "model.save('covid_model.h5')"
      ]
    },
    {
      "cell_type": "code",
      "execution_count": null,
      "metadata": {
        "id": "sJezf6dsv5UC"
      },
      "outputs": [],
      "source": [
        "print(\"training_accuracy\", hist.history['accuracy'][-1])\n",
        "print(\"validation_accuracy\", hist.history['val_accuracy'][-1])"
      ]
    },
    {
      "cell_type": "code",
      "execution_count": null,
      "metadata": {
        "id": "QBJBDOXl8oeG"
      },
      "outputs": [],
      "source": [
        "plt.figure(1, figsize = (15, 5))\n",
        "plt.subplot(1,2,1)\n",
        "plt.title(\" Veriseti 3, CovnLSTM Modeli Loss\")\n",
        "plt.xlabel(\"Epochs\")\n",
        "plt.ylabel(\"Loss\")\n",
        "plt.plot( hist.history[\"loss\"], label = \"Training Loss\")\n",
        "plt.plot( hist.history[\"val_loss\"], label = \"Validation Loss\")\n",
        "plt.grid(True)\n",
        "plt.legend()\n",
        "\n",
        "plt.subplot(1,2,2)\n",
        "plt.title(\" Veriseti 3, CovnLSTM Modeli Accuracy\")\n",
        "plt.xlabel(\"Epochs\")\n",
        "plt.ylabel(\"Accuracy\")\n",
        "plt.plot( hist.history[\"accuracy\"], label = \"Training Accuracy\")\n",
        "plt.plot( hist.history[\"val_accuracy\"], label = \"Validation Accuracy\")\n",
        "plt.grid(True)\n",
        "plt.legend()\n",
        "plt.show()"
      ]
    },
    {
      "cell_type": "code",
      "execution_count": null,
      "metadata": {
        "id": "S4juCxkZwBlM"
      },
      "outputs": [],
      "source": [
        "from sklearn.metrics import confusion_matrix, classification_report\n",
        "from sklearn.metrics import precision_recall_fscore_support, accuracy_score\n",
        "from sklearn.metrics import precision_score, recall_score, f1_score, accuracy_score\n",
        "from sklearn.metrics import precision_score\n",
        "from sklearn.metrics import matthews_corrcoef\n",
        "\n",
        "classes = ['COVID', 'Viral Pneumonia']\n",
        "\n",
        "y_pred = model.predict(validation_generator)\n",
        "predictions = np.array(list(map(lambda x: np.argmax(x), y_pred)))\n",
        "\n",
        "y_true=validation_generator.classes\n",
        "\n",
        "CMatrix = pd.DataFrame(confusion_matrix(y_true, predictions), columns=classes, index =classes)\n",
        "\n",
        "plt.figure(figsize=(12, 6))\n",
        "\n",
        "ax = sns.heatmap(CMatrix, annot = True, fmt = 'g' ,vmin = 0, vmax = 250,cmap = 'Blues')\n",
        "ax.set_xlabel('Predicted',fontsize = 14,weight = 'bold')\n",
        "ax.set_xticklabels(ax.get_xticklabels(),rotation =0);\n",
        "\n",
        "ax.set_ylabel('Actual',fontsize = 14,weight = 'bold') \n",
        "ax.set_yticklabels(ax.get_yticklabels(),rotation =0);\n",
        "ax.set_title(' Veriseti 3, CovnLSTM Modeli Confusion Matrix',fontsize = 16,weight = 'bold',pad=20);"
      ]
    },
    {
      "cell_type": "code",
      "execution_count": null,
      "metadata": {
        "id": "WgYDpr0lwcwD"
      },
      "outputs": [],
      "source": [
        "print(classification_report(y_true, predictions))"
      ]
    },
    {
      "cell_type": "code",
      "execution_count": null,
      "metadata": {
        "id": "O3OD4dVQwnG7"
      },
      "outputs": [],
      "source": [
        "print(\"3. Veriseti - CovnLSTM Modeli\")\n",
        "print('Precision: %.3f' % precision_score(y_true, predictions))\n",
        "print('Recall: %.3f' % recall_score(y_true, predictions))\n",
        "print('Accuracy: %.3f' % accuracy_score(y_true, predictions))\n",
        "print('F1 Score: %.3f' % f1_score(y_true, predictions))\n",
        "print('Positive Predictive Value (PPV) Score: %.3f' % precision_score(y_true, predictions))\n",
        "print('Matthews correlation coefficient (MCC) Score: %.3f' % matthews_corrcoef(y_true, predictions))"
      ]
    },
    {
      "cell_type": "code",
      "source": [
        "from sklearn.metrics import RocCurveDisplay\n",
        "from sklearn import metrics\n",
        "fpr, tpr, _ = metrics.roc_curve(y_true, predictions)\n",
        "\n",
        "#create ROC curve\n",
        "plt.plot(fpr,tpr)\n",
        "plt.plot([0, 1], [0, 1], \"k--\")\n",
        "plt.ylabel('True Positive Rate')\n",
        "plt.xlabel('False Positive Rate')\n",
        "plt.title(\" Veriseti 3, CovnLSTM Modeli ROC Curve\")\n",
        "plt.show()"
      ],
      "metadata": {
        "id": "-xUiIa-CcgqF"
      },
      "execution_count": null,
      "outputs": []
    }
  ],
  "metadata": {
    "colab": {
      "provenance": []
    },
    "kernelspec": {
      "display_name": "Python 3",
      "name": "python3"
    },
    "language_info": {
      "name": "python"
    }
  },
  "nbformat": 4,
  "nbformat_minor": 0
}